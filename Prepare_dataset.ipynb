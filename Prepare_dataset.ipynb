{
 "cells": [
  {
   "cell_type": "code",
   "execution_count": 1,
   "metadata": {},
   "outputs": [],
   "source": [
    "import data\n",
    "import os\n",
    "dataset_folder = \"Data/Dataset\"\n",
    "target_dir = \"Data/Dataset_prepared\"\n",
    "pats = os.listdir(dataset_folder)"
   ]
  },
  {
   "cell_type": "code",
   "execution_count": 3,
   "metadata": {},
   "outputs": [
    {
     "name": "stderr",
     "output_type": "stream",
     "text": [
      "Calc events of Pat Pat001: 100%|██████████| 4/4 [00:00<00:00, 3964.37it/s]\n",
      "Calc events of Pat Pat002: 100%|██████████| 4/4 [00:39<00:00,  9.87s/it]\n",
      "Calc events of Pat Pat003: 100%|██████████| 4/4 [00:43<00:00, 10.97s/it]\n",
      "Calc events of Pat Pat004: 100%|██████████| 4/4 [00:50<00:00, 12.56s/it]\n",
      "Calc events of Pat Pat005: 100%|██████████| 4/4 [00:37<00:00,  9.28s/it]\n",
      "Calc events of Pat Pat006: 100%|██████████| 4/4 [00:41<00:00, 10.35s/it]\n",
      "Calc events of Pat Pat007: 100%|██████████| 4/4 [00:33<00:00,  8.31s/it]\n",
      "Calc events of Pat Pat008: 100%|██████████| 4/4 [00:32<00:00,  8.08s/it]\n",
      "Calc events of Pat Pat009: 100%|██████████| 4/4 [00:38<00:00,  9.56s/it]\n",
      "Calc events of Pat Pat010: 100%|██████████| 4/4 [00:51<00:00, 12.99s/it]\n",
      "Calc events of Pat Pat011: 100%|██████████| 4/4 [00:32<00:00,  8.12s/it]\n",
      "Calc events of Pat Pat012: 100%|██████████| 4/4 [00:52<00:00, 13.11s/it]\n",
      "Calc events of Pat Pat013: 100%|██████████| 4/4 [00:41<00:00, 10.47s/it]\n",
      "Calc events of Pat Pat014: 100%|██████████| 4/4 [00:38<00:00,  9.65s/it]\n",
      "Calc events of Pat Pat015: 100%|██████████| 4/4 [00:41<00:00, 10.46s/it]\n",
      "Calc events of Pat Pat016: 100%|██████████| 4/4 [01:29<00:00, 22.33s/it]\n",
      "Calc events of Pat Pat017: 100%|██████████| 4/4 [00:38<00:00,  9.67s/it]\n",
      "Calc events of Pat Pat018: 100%|██████████| 4/4 [00:53<00:00, 13.45s/it]\n",
      "Calc events of Pat Pat019: 100%|██████████| 4/4 [00:36<00:00,  9.08s/it]\n",
      "Calc events of Pat Pat020: 100%|██████████| 4/4 [00:45<00:00, 11.44s/it]\n",
      "Calc events of Pat Pat021: 100%|██████████| 4/4 [00:31<00:00,  7.90s/it]\n",
      "Calc events of Pat Pat022: 100%|██████████| 4/4 [00:51<00:00, 12.91s/it]\n",
      "Calc events of Pat Pat023: 100%|██████████| 4/4 [00:34<00:00,  8.69s/it]\n",
      "Calc events of Pat Pat024: 100%|██████████| 4/4 [00:37<00:00,  9.30s/it]\n",
      "Calc events of Pat Pat025: 100%|██████████| 4/4 [00:46<00:00, 11.71s/it]\n",
      "Calc events of Pat Pat026: 100%|██████████| 4/4 [00:43<00:00, 11.00s/it]\n",
      "Calc events of Pat Pat027: 100%|██████████| 4/4 [00:41<00:00, 10.40s/it]\n",
      "Calc events of Pat Pat028: 100%|██████████| 4/4 [00:42<00:00, 10.73s/it]\n",
      "Calc events of Pat Pat029: 100%|██████████| 4/4 [00:43<00:00, 10.85s/it]\n",
      "Calc events of Pat Pat030: 100%|██████████| 4/4 [00:36<00:00,  9.20s/it]\n",
      "Calc events of Pat Pat031: 100%|██████████| 4/4 [01:04<00:00, 16.04s/it]\n",
      "Calc events of Pat Pat032: 100%|██████████| 4/4 [00:48<00:00, 12.13s/it]\n",
      "Calc events of Pat Pat033: 100%|██████████| 4/4 [00:48<00:00, 12.00s/it]\n",
      "Calc events of Pat Pat034: 100%|██████████| 4/4 [00:38<00:00,  9.72s/it]\n",
      "Calc events of Pat Pat035: 100%|██████████| 4/4 [00:40<00:00, 10.10s/it]\n",
      "Calc events of Pat Pat036: 100%|██████████| 4/4 [00:35<00:00,  8.95s/it]\n",
      "Calc events of Pat Pat037: 100%|██████████| 4/4 [00:45<00:00, 11.26s/it]\n",
      "Calc events of Pat Pat038: 100%|██████████| 4/4 [00:38<00:00,  9.68s/it]\n",
      "Calc events of Pat Pat039: 100%|██████████| 4/4 [01:20<00:00, 20.10s/it]\n",
      "Calc events of Pat Pat040: 100%|██████████| 4/4 [00:44<00:00, 11.05s/it]\n",
      "Calc events of Pat Pat041: 100%|██████████| 4/4 [01:00<00:00, 15.10s/it]\n",
      "Calc events of Pat Pat042: 100%|██████████| 4/4 [01:28<00:00, 22.14s/it]\n",
      "Calc events of Pat Pat043: 100%|██████████| 4/4 [00:44<00:00, 11.13s/it]\n"
     ]
    }
   ],
   "source": [
    "import warnings\n",
    "warnings.filterwarnings(\"ignore\")\n",
    "for pat in pats:\n",
    "    rec = data.Recording(os.path.join(dataset_folder, pat))\n",
    "    rec.calc_events_all_conditions()\n",
    "\n"
   ]
  },
  {
   "cell_type": "code",
   "execution_count": null,
   "metadata": {},
   "outputs": [],
   "source": []
  }
 ],
 "metadata": {
  "kernelspec": {
   "display_name": "MAIA",
   "language": "python",
   "name": "python3"
  },
  "language_info": {
   "codemirror_mode": {
    "name": "ipython",
    "version": 3
   },
   "file_extension": ".py",
   "mimetype": "text/x-python",
   "name": "python",
   "nbconvert_exporter": "python",
   "pygments_lexer": "ipython3",
   "version": "3.11.3"
  }
 },
 "nbformat": 4,
 "nbformat_minor": 2
}
