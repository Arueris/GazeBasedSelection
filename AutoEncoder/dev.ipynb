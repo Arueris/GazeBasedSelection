{
 "cells": [
  {
   "cell_type": "code",
   "execution_count": null,
   "metadata": {},
   "outputs": [],
   "source": [
    "import utils\n",
    "utils.create_unique_folder(\"test\")\n",
    "utils.create_unique_folder(\"test\")\n"
   ]
  },
  {
   "cell_type": "code",
   "execution_count": null,
   "metadata": {},
   "outputs": [],
   "source": [
    "from utils import load_model\n",
    "from TCN import TCNAE\n",
    "\n",
    "path = \"HyperparameterSearchAllModels/Models/TCNAE_472.pth\"\n",
    "paras = {\"seq_len\": 61, \"input_dim\": 1, \"num_channels\": [8, 16], \"kernel_size\": 7, \"latent_dim\": 10}\n",
    "model = load_model(path, TCNAE, paras)\n",
    "model"
   ]
  },
  {
   "cell_type": "code",
   "execution_count": null,
   "metadata": {},
   "outputs": [],
   "source": [
    "from utils import load_np_dataset\n",
    "import torch\n",
    "import numpy as np\n",
    "fps = 90\n",
    "cond = \"nod\"\n",
    "f = 62\n",
    "b = 500\n",
    "a = 200\n",
    "angles_correct = np.load(f\"../Data/Dataset_Prepare/angles_fps{fps}_{cond}_Correct_f{f}_b{b}_a{a}.npy\")\n",
    "angles_incorrect = np.load(f\"../Data/Dataset_Prepare/angles_fps{fps}_{cond}_Incorrect_f{f}_b{b}_a{a}.npy\")\n",
    "names_correct = np.load(f\"../Data/Dataset_Prepare/names_fps{fps}_{cond}_Correct_f{f}_b{b}_a{a}.npy\")\n",
    "names_incorrect = np.load(f\"../Data/Dataset_Prepare/names_fps{fps}_{cond}_Incorrect_f{f}_b{b}_a{a}.npy\")\n",
    "pat_names = np.unique(names_correct)\n",
    "n = int(0.7 * len(pat_names))\n",
    "train_pats = pat_names[:n]\n",
    "test_pats = pat_names[n:]\n",
    "train_data = angles_correct[np.isin(names_correct, train_pats)]\n",
    "test_correct = angles_correct[np.isin(names_correct, test_pats)]\n",
    "test_incorrect = angles_incorrect[np.isin(names_incorrect, test_pats)]\n",
    "\n",
    "test_correct = torch.tensor(test_correct).type(torch.float)[:, None, :]\n",
    "test_incorrect = torch.tensor(test_incorrect).type(torch.float)[:, None, :]\n",
    "train_correct= torch.tensor(train_data).type(torch.float)[:, None, :]\n",
    "model.eval()\n",
    "with torch.no_grad():\n",
    "    train_correct_out = model(train_correct)\n",
    "    correct_out = model(test_correct)\n",
    "    incorrect_out = model(test_incorrect)\n",
    "    mse_correct = torch.mean((correct_out - test_correct)**2, dim=(1, 2))\n",
    "    mse_incorrect = torch.mean((incorrect_out - test_incorrect)**2, dim=(1, 2))\n",
    "    mse_train_correct = torch.mean((train_correct_out - train_correct)**2, dim=(1, 2))\n",
    "    print(mse_correct)\n",
    "    print(mse_incorrect)\n",
    "    print(mse_train_correct)"
   ]
  },
  {
   "cell_type": "code",
   "execution_count": null,
   "metadata": {},
   "outputs": [],
   "source": [
    "import matplotlib.pyplot as plt\n",
    "perc = np.linspace(80, 100, 100)\n",
    "ths = np.percentile(mse_train_correct.cpu().numpy(), perc)\n",
    "fig, ax = plt.subplots()\n",
    "res = {\"TH_number\": list(), \"TH\": list(), \"Correct\": list(), \"Incorrect\": list()}\n",
    "for p, th in zip(perc, ths):\n",
    "    correct_acc = np.mean((mse_correct < th).cpu().numpy())\n",
    "    incorrect_acc = np.mean((mse_incorrect > th).cpu().numpy())\n",
    "    res[\"TH_number\"].append(th)\n",
    "    res[\"TH\"].append(p)\n",
    "    res[\"Correct\"].append(correct_acc)\n",
    "    res[\"Incorrect\"].append(incorrect_acc)\n",
    "\n",
    "ax.plot(res[\"TH\"], res[\"Correct\"], label=\"Correct\", color=\"b\")\n",
    "ax.plot(res[\"TH\"], res[\"Incorrect\"], label=\"Incorrect\", color=\"orange\")\n",
    "ax.axhline(0.9, linestyle=\"--\", color=\"red\", alpha=0.4)\n",
    "ax.set_ylabel(\"Recall\")\n",
    "ax.set_xlabel(\"Percentile\")\n",
    "ax.legend()\n",
    "plt.show()"
   ]
  },
  {
   "cell_type": "code",
   "execution_count": null,
   "metadata": {},
   "outputs": [],
   "source": [
    "from utils import load_model\n",
    "from TCN import TCNAE\n",
    "import torch\n",
    "import numpy as np\n",
    "\n",
    "model_parameter = {\"seq_len\":43, \"input_dim\":1, \"num_channels\": [8, 16], \"kernel_size\":3, \"latent_dim\":10}\n",
    "model = load_model(\"Results/LOSO_500msSeq/Models/TCNAE_12_nod.pth\", TCNAE, model_parameter)\n",
    "device = torch.device(\"cuda\" if torch.cuda.is_available() else \"cpu\")\n",
    "\n",
    "fps = 90\n",
    "cond = \"nod\"\n",
    "f = 44\n",
    "b = 300\n",
    "a = 200\n",
    "angles_correct = np.load(f\"../Data/Dataset_Prepare/angles_fps{fps}_{cond}_Correct_f{f}_b{b}_a{a}.npy\")\n",
    "angles_incorrect = np.load(f\"../Data/Dataset_Prepare/angles_fps{fps}_{cond}_Incorrect_f{f}_b{b}_a{a}.npy\")\n",
    "names_correct = np.load(f\"../Data/Dataset_Prepare/names_fps{fps}_{cond}_Correct_f{f}_b{b}_a{a}.npy\")\n",
    "names_incorrect = np.load(f\"../Data/Dataset_Prepare/names_fps{fps}_{cond}_Incorrect_f{f}_b{b}_a{a}.npy\")\n",
    "pat_names = np.unique(names_correct)\n",
    "n = int(0.7 * len(pat_names))\n",
    "train_pats = pat_names[:n]\n",
    "test_pats = pat_names[n:]\n",
    "train_data = angles_correct[np.isin(names_correct, train_pats)]\n",
    "test_correct = angles_correct[np.isin(names_correct, test_pats)]\n",
    "test_incorrect = angles_incorrect[np.isin(names_incorrect, test_pats)]\n",
    "\n",
    "test_correct = torch.tensor(test_correct).type(torch.float)[:, None, :]\n",
    "test_incorrect = torch.tensor(test_incorrect).type(torch.float)[:, None, :]\n",
    "train_correct= torch.tensor(train_data).type(torch.float)[:, None, :]\n",
    "model.eval()\n",
    "with torch.no_grad():\n",
    "    train_correct_out = model(train_correct)\n",
    "    correct_out = model(test_correct)\n",
    "    incorrect_out = model(test_incorrect)\n",
    "    mse_correct = torch.mean((correct_out - test_correct)**2, dim=(1, 2))\n",
    "    mse_incorrect = torch.mean((incorrect_out - test_incorrect)**2, dim=(1, 2))\n",
    "    mse_train_correct = torch.mean((train_correct_out - train_correct)**2, dim=(1, 2))\n",
    "    print(mse_correct)\n",
    "    print(mse_incorrect)\n",
    "    print(mse_train_correct)"
   ]
  },
  {
   "cell_type": "code",
   "execution_count": null,
   "metadata": {},
   "outputs": [],
   "source": [
    "import matplotlib.pyplot as plt\n",
    "trial_nr = 1\n",
    "correct = {\"in\": test_correct[trial_nr][0].numpy(), \"out\": correct_out[trial_nr][0].numpy()}\n",
    "incorrect = {\"in\": test_incorrect[trial_nr][0].numpy(), \"out\": incorrect_out[trial_nr][0].numpy()}\n",
    "\n",
    "fig, (ax_correct, ax_incorrect) = plt.subplots(2, sharex=True)\n",
    "ax_correct.plot(correct[\"in\"], color=\"blue\")\n",
    "ax_correct.set_title(\"Correct\")\n",
    "ax_incorrect.plot(incorrect[\"in\"], color=\"blue\")\n",
    "ax_incorrect.set_title(\"Incorrect\")\n",
    "fig.tight_layout()\n",
    "plt.show()\n",
    "\n",
    "mse_correct = np.mean((correct[\"in\"] - correct[\"out\"])**2)\n",
    "mse_incorrect = np.mean((incorrect[\"in\"] - incorrect[\"out\"])**2)\n",
    "\n",
    "fig, (ax_correct, ax_incorrect) = plt.subplots(2, sharex=True)\n",
    "ax_correct.plot(correct[\"out\"], color=\"blue\")\n",
    "ax_correct.set_title(f\"Reconstructed correct\") #; MSE {mse_correct}\")\n",
    "ax_incorrect.plot(incorrect[\"out\"], color=\"blue\")\n",
    "ax_incorrect.set_title(f\"Reconstructed incorrect\") #; MSE {mse_incorrect}\")\n",
    "fig.tight_layout()\n",
    "plt.show()\n",
    "print(\"Correct MSE: \", mse_correct)\n",
    "print(\"Incorrect MSE: \", mse_incorrect)\n",
    "# def create_plot_auto(correct, incorrect):\n",
    "#     fig, (ax_correct, ax_incorrect) = plt.subplot(2, sharex=True)\n",
    "#     ax_correct.plot(correct)"
   ]
  },
  {
   "cell_type": "markdown",
   "metadata": {},
   "source": [
    "# Load Model"
   ]
  },
  {
   "cell_type": "code",
   "execution_count": null,
   "metadata": {},
   "outputs": [],
   "source": [
    "import os\n",
    "import torch\n",
    "from TCN import TCNAE\n",
    "import utils\n",
    "import json\n",
    "import torch.onnx\n",
    "\n",
    "path = \"Results/LOSO_a200_b300_f44_seq43/Models\"\n",
    "model_name = \"TCNAE_4\"\n",
    "conditions = [\"nod\", \"gaze\", \"headAndGaze\"]\n",
    "model_names = [\"TCNAE_1_gaze\", \"TCNAE_1_headAndGaze\", \"TCNAE_1_nod\"]\n",
    "cond = conditions[0]\n",
    "# for cond in conditions:\n",
    "#     with open(os.path.join(path, model_name + f\"_{cond}_info.json\")) as json_file:\n",
    "#         model_info = json.load(json_file)\n",
    "        # print(model_info)\n",
    "    # model = utils.load_model(os.path.join(path, model_name + f\"_{cond}.pth\"), TCNAE, model_info[\"model_parameter\"])\n",
    "\n",
    "for model_name in model_names:\n",
    "    with open(os.path.join(path, model_name + \"_info.json\")) as json_file:\n",
    "        model_info = json.load(json_file)\n",
    "\n",
    "    model = utils.load_model(os.path.join(path, model_name + \".pth\"), TCNAE, model_info[\"model_parameter\"])\n",
    "\n",
    "    dummy_input = torch.randn(1, 1, model_info[\"model_parameter\"][\"seq_len\"])\n",
    "    model.eval()\n",
    "    # dummy_output = model(dummy_input)\n",
    "    # print(dummy_output)\n",
    "\n",
    "    # save model as onnx at the same location like the model_info\n",
    "\n",
    "    torch.onnx.export(model, dummy_input, os.path.join(path, model_name + \".onnx\"))\n",
    "\n",
    "    print(f\"Model has been saved as {model_name}.onnx\")"
   ]
  },
  {
   "cell_type": "code",
   "execution_count": null,
   "metadata": {},
   "outputs": [],
   "source": [
    "# Test models\n",
    "input = torch.randn(5, 1, 1, 1, 1, 1, 1, 61)\n",
    "output = model(input)\n",
    "\n",
    "print(output)"
   ]
  },
  {
   "cell_type": "markdown",
   "metadata": {},
   "source": [
    "# TCNAE final parameters results"
   ]
  },
  {
   "cell_type": "code",
   "execution_count": 10,
   "metadata": {},
   "outputs": [
    {
     "data": {
      "text/plain": [
       "Correct      0.871524\n",
       "Incorrect    0.890476\n",
       "Macro        0.881000\n",
       "Micro        0.871501\n",
       "dtype: float64"
      ]
     },
     "execution_count": 10,
     "metadata": {},
     "output_type": "execute_result"
    }
   ],
   "source": [
    "import os\n",
    "import pandas as pd\n",
    "\n",
    "path = \"Results/HyperparameterSearch_TCNAE_a200_b300_f44_seq43/results_log.csv\"\n",
    "df = pd.read_csv(path)\n",
    "df.rename(columns={\n",
    "    \"correct_acc\": \"Correct\",\n",
    "    \"incorrect_acc\": \"Incorrect\",\n",
    "    \"n_correct\": \"Correct_samples\",\n",
    "    \"n_incorrect\": \"Incorrect_samples\"  \n",
    "}, inplace=True)\n",
    "df[\"Macro\"] = (df[\"Correct\"] + df[\"Incorrect\"]) / 2\n",
    "df[\"Micro\"] = (df[\"Correct\"] * df[\"Correct_samples\"] + df[\"Incorrect\"] * df[\"Incorrect_samples\"]) / (df[\"Correct_samples\"] + df[\"Incorrect_samples\"])\n",
    "df[[\"Correct\", \"Incorrect\", \"Macro\", \"Micro\"]].mean()"
   ]
  },
  {
   "cell_type": "markdown",
   "metadata": {},
   "source": [
    "# Statistical power analysis"
   ]
  },
  {
   "cell_type": "code",
   "execution_count": 5,
   "metadata": {},
   "outputs": [
    {
     "data": {
      "text/plain": [
       "{'d = 0.2': 326,\n",
       " 'd = 0.33': 121,\n",
       " 'd = 0.5': 53,\n",
       " 'd = 0.6': 38,\n",
       " 'd = 0.7': 28,\n",
       " 'd = 0.8': 22}"
      ]
     },
     "execution_count": 5,
     "metadata": {},
     "output_type": "execute_result"
    }
   ],
   "source": [
    "from statsmodels.stats.power import TTestPower\n",
    "\n",
    "# Define parameters\n",
    "effect_sizes = [0.2, 0.33, 0.5, 0.6, 0.7, 0.8]  # Small, medium, large effect sizes\n",
    "alpha = 0.05  # Significance level\n",
    "power = 0.95  # Desired statistical power\n",
    "\n",
    "# Compute required sample sizes for a paired t-test\n",
    "sample_sizes = {f\"d = {d}\": int(TTestPower().solve_power(effect_size=d, alpha=alpha, power=power, alternative='two-sided')) \n",
    "                for d in effect_sizes}\n",
    "\n",
    "sample_sizes\n"
   ]
  },
  {
   "cell_type": "code",
   "execution_count": 3,
   "metadata": {},
   "outputs": [
    {
     "data": {
      "text/html": [
       "<div>\n",
       "<style scoped>\n",
       "    .dataframe tbody tr th:only-of-type {\n",
       "        vertical-align: middle;\n",
       "    }\n",
       "\n",
       "    .dataframe tbody tr th {\n",
       "        vertical-align: top;\n",
       "    }\n",
       "\n",
       "    .dataframe thead th {\n",
       "        text-align: right;\n",
       "    }\n",
       "</style>\n",
       "<table border=\"1\" class=\"dataframe\">\n",
       "  <thead>\n",
       "    <tr style=\"text-align: right;\">\n",
       "      <th></th>\n",
       "      <th>Local Gaze Direction X</th>\n",
       "      <th>Local Gaze Direction Y</th>\n",
       "      <th>Local Gaze Direction Z</th>\n",
       "      <th>isValid</th>\n",
       "    </tr>\n",
       "  </thead>\n",
       "  <tbody>\n",
       "    <tr>\n",
       "      <th>0</th>\n",
       "      <td>0.1</td>\n",
       "      <td>0.5</td>\n",
       "      <td>0.9</td>\n",
       "      <td>True</td>\n",
       "    </tr>\n",
       "    <tr>\n",
       "      <th>1</th>\n",
       "      <td>0.2</td>\n",
       "      <td>0.6</td>\n",
       "      <td>1.0</td>\n",
       "      <td>True</td>\n",
       "    </tr>\n",
       "    <tr>\n",
       "      <th>2</th>\n",
       "      <td>0.2</td>\n",
       "      <td>0.6</td>\n",
       "      <td>1.0</td>\n",
       "      <td>False</td>\n",
       "    </tr>\n",
       "    <tr>\n",
       "      <th>3</th>\n",
       "      <td>0.4</td>\n",
       "      <td>0.8</td>\n",
       "      <td>1.2</td>\n",
       "      <td>True</td>\n",
       "    </tr>\n",
       "    <tr>\n",
       "      <th>4</th>\n",
       "      <td>0.4</td>\n",
       "      <td>0.8</td>\n",
       "      <td>1.2</td>\n",
       "      <td>False</td>\n",
       "    </tr>\n",
       "  </tbody>\n",
       "</table>\n",
       "</div>"
      ],
      "text/plain": [
       "   Local Gaze Direction X  Local Gaze Direction Y  Local Gaze Direction Z  \\\n",
       "0                     0.1                     0.5                     0.9   \n",
       "1                     0.2                     0.6                     1.0   \n",
       "2                     0.2                     0.6                     1.0   \n",
       "3                     0.4                     0.8                     1.2   \n",
       "4                     0.4                     0.8                     1.2   \n",
       "\n",
       "   isValid  \n",
       "0     True  \n",
       "1     True  \n",
       "2    False  \n",
       "3     True  \n",
       "4    False  "
      ]
     },
     "metadata": {},
     "output_type": "display_data"
    }
   ],
   "source": [
    "import pandas as pd\n",
    "import numpy as np\n",
    "\n",
    "# Example DataFrame\n",
    "data = {\n",
    "    \"Local Gaze Direction X\": [0.1, 0.2, 0, 0.4, 0],\n",
    "    \"Local Gaze Direction Y\": [0.5, 0.6, 0, 0.8, 0],\n",
    "    \"Local Gaze Direction Z\": [0.9, 1.0, 0, 1.2, 0],\n",
    "    \"isValid\": [True, True, False, True, False]\n",
    "}\n",
    "df = pd.DataFrame(data)\n",
    "\n",
    "# Replace invalid rows with the last valid gaze direction vector\n",
    "df.loc[~df[\"isValid\"], [\"Local Gaze Direction X\", \"Local Gaze Direction Y\", \"Local Gaze Direction Z\"]] = np.nan\n",
    "df[[\"Local Gaze Direction X\", \"Local Gaze Direction Y\", \"Local Gaze Direction Z\"]] = df[\n",
    "    [\"Local Gaze Direction X\", \"Local Gaze Direction Y\", \"Local Gaze Direction Z\"]\n",
    "].fillna(method=\"ffill\")\n",
    "\n",
    "display(df)"
   ]
  }
 ],
 "metadata": {
  "kernelspec": {
   "display_name": "MAIA",
   "language": "python",
   "name": "python3"
  },
  "language_info": {
   "codemirror_mode": {
    "name": "ipython",
    "version": 3
   },
   "file_extension": ".py",
   "mimetype": "text/x-python",
   "name": "python",
   "nbconvert_exporter": "python",
   "pygments_lexer": "ipython3",
   "version": "3.11.3"
  }
 },
 "nbformat": 4,
 "nbformat_minor": 2
}
