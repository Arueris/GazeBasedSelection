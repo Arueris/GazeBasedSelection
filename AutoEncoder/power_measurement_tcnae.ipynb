{
 "cells": [
  {
   "cell_type": "markdown",
   "metadata": {},
   "source": [
    "# Start \n",
    "\n",
    "We begin with a leave-one-out participant to get for every participant a number of wrong selections and how many it would be with the help of TCNAE."
   ]
  },
  {
   "cell_type": "code",
   "execution_count": 1,
   "metadata": {},
   "outputs": [],
   "source": [
    "# save folder\n",
    "import os\n",
    "import utils\n",
    "\n",
    "save_folder = utils.create_unique_folder('Results/PowerMeasurements')"
   ]
  },
  {
   "cell_type": "code",
   "execution_count": null,
   "metadata": {},
   "outputs": [
    {
     "name": "stdout",
     "output_type": "stream",
     "text": [
      "Condition: gaze\n"
     ]
    },
    {
     "ename": "FileNotFoundError",
     "evalue": "[Errno 2] No such file or directory: \"Data/Dataset_Prepare/angles_fps90_gaze_Correct_f<_io.TextIOWrapper name='Results/LOSO_a200_b300_f44_seq43/Models\\\\\\\\TCNAE_1_gaze_info.json' mode='r' encoding='utf-8'>_b300_a200_finalRounds.npy\"",
     "output_type": "error",
     "traceback": [
      "\u001b[1;31m---------------------------------------------------------------------------\u001b[0m",
      "\u001b[1;31mFileNotFoundError\u001b[0m                         Traceback (most recent call last)",
      "Cell \u001b[1;32mIn[2], line 23\u001b[0m\n\u001b[0;32m     20\u001b[0m \u001b[38;5;28;01mwith\u001b[39;00m \u001b[38;5;28mopen\u001b[39m(os\u001b[38;5;241m.\u001b[39mpath\u001b[38;5;241m.\u001b[39mjoin(model_folder, model_name \u001b[38;5;241m+\u001b[39m \u001b[38;5;124m\"\u001b[39m\u001b[38;5;124m_info.json\u001b[39m\u001b[38;5;124m\"\u001b[39m), \u001b[38;5;124m'\u001b[39m\u001b[38;5;124mr\u001b[39m\u001b[38;5;124m'\u001b[39m) \u001b[38;5;28;01mas\u001b[39;00m f:\n\u001b[0;32m     21\u001b[0m     model_info \u001b[38;5;241m=\u001b[39m json\u001b[38;5;241m.\u001b[39mload(f)\n\u001b[1;32m---> 23\u001b[0m angles_correct \u001b[38;5;241m=\u001b[39m \u001b[43mnp\u001b[49m\u001b[38;5;241;43m.\u001b[39;49m\u001b[43mload\u001b[49m\u001b[43m(\u001b[49m\u001b[38;5;124;43mf\u001b[39;49m\u001b[38;5;124;43m\"\u001b[39;49m\u001b[38;5;124;43mData/Dataset_Prepare/angles_fps\u001b[39;49m\u001b[38;5;132;43;01m{\u001b[39;49;00m\u001b[43mfps\u001b[49m\u001b[38;5;132;43;01m}\u001b[39;49;00m\u001b[38;5;124;43m_\u001b[39;49m\u001b[38;5;132;43;01m{\u001b[39;49;00m\u001b[43mcond\u001b[49m\u001b[38;5;132;43;01m}\u001b[39;49;00m\u001b[38;5;124;43m_Correct_f\u001b[39;49m\u001b[38;5;132;43;01m{\u001b[39;49;00m\u001b[43mf\u001b[49m\u001b[38;5;132;43;01m}\u001b[39;49;00m\u001b[38;5;124;43m_b\u001b[39;49m\u001b[38;5;132;43;01m{\u001b[39;49;00m\u001b[43mb\u001b[49m\u001b[38;5;132;43;01m}\u001b[39;49;00m\u001b[38;5;124;43m_a\u001b[39;49m\u001b[38;5;132;43;01m{\u001b[39;49;00m\u001b[43ma\u001b[49m\u001b[38;5;132;43;01m}\u001b[39;49;00m\u001b[38;5;124;43m_finalRounds.npy\u001b[39;49m\u001b[38;5;124;43m\"\u001b[39;49m\u001b[43m)\u001b[49m\n\u001b[0;32m     24\u001b[0m angles_incorrect \u001b[38;5;241m=\u001b[39m np\u001b[38;5;241m.\u001b[39mload(\u001b[38;5;124mf\u001b[39m\u001b[38;5;124m\"\u001b[39m\u001b[38;5;124mData/Dataset_Prepare/angles_fps\u001b[39m\u001b[38;5;132;01m{\u001b[39;00mfps\u001b[38;5;132;01m}\u001b[39;00m\u001b[38;5;124m_\u001b[39m\u001b[38;5;132;01m{\u001b[39;00mcond\u001b[38;5;132;01m}\u001b[39;00m\u001b[38;5;124m_Incorrect_f\u001b[39m\u001b[38;5;132;01m{\u001b[39;00mf\u001b[38;5;132;01m}\u001b[39;00m\u001b[38;5;124m_b\u001b[39m\u001b[38;5;132;01m{\u001b[39;00mb\u001b[38;5;132;01m}\u001b[39;00m\u001b[38;5;124m_a\u001b[39m\u001b[38;5;132;01m{\u001b[39;00ma\u001b[38;5;132;01m}\u001b[39;00m\u001b[38;5;124m_finalRounds.npy\u001b[39m\u001b[38;5;124m\"\u001b[39m)\n\u001b[0;32m     25\u001b[0m names_correct \u001b[38;5;241m=\u001b[39m np\u001b[38;5;241m.\u001b[39mload(\u001b[38;5;124mf\u001b[39m\u001b[38;5;124m\"\u001b[39m\u001b[38;5;124mData/Dataset_Prepare/names_fps\u001b[39m\u001b[38;5;132;01m{\u001b[39;00mfps\u001b[38;5;132;01m}\u001b[39;00m\u001b[38;5;124m_\u001b[39m\u001b[38;5;132;01m{\u001b[39;00mcond\u001b[38;5;132;01m}\u001b[39;00m\u001b[38;5;124m_Correct_f\u001b[39m\u001b[38;5;132;01m{\u001b[39;00mf\u001b[38;5;132;01m}\u001b[39;00m\u001b[38;5;124m_b\u001b[39m\u001b[38;5;132;01m{\u001b[39;00mb\u001b[38;5;132;01m}\u001b[39;00m\u001b[38;5;124m_a\u001b[39m\u001b[38;5;132;01m{\u001b[39;00ma\u001b[38;5;132;01m}\u001b[39;00m\u001b[38;5;124m_finalRounds.npy\u001b[39m\u001b[38;5;124m\"\u001b[39m)\n",
      "File \u001b[1;32mc:\\Users\\Bjoern\\anaconda3\\envs\\MAIA\\Lib\\site-packages\\numpy\\lib\\npyio.py:405\u001b[0m, in \u001b[0;36mload\u001b[1;34m(file, mmap_mode, allow_pickle, fix_imports, encoding, max_header_size)\u001b[0m\n\u001b[0;32m    403\u001b[0m     own_fid \u001b[38;5;241m=\u001b[39m \u001b[38;5;28;01mFalse\u001b[39;00m\n\u001b[0;32m    404\u001b[0m \u001b[38;5;28;01melse\u001b[39;00m:\n\u001b[1;32m--> 405\u001b[0m     fid \u001b[38;5;241m=\u001b[39m stack\u001b[38;5;241m.\u001b[39menter_context(\u001b[38;5;28;43mopen\u001b[39;49m\u001b[43m(\u001b[49m\u001b[43mos_fspath\u001b[49m\u001b[43m(\u001b[49m\u001b[43mfile\u001b[49m\u001b[43m)\u001b[49m\u001b[43m,\u001b[49m\u001b[43m \u001b[49m\u001b[38;5;124;43m\"\u001b[39;49m\u001b[38;5;124;43mrb\u001b[39;49m\u001b[38;5;124;43m\"\u001b[39;49m\u001b[43m)\u001b[49m)\n\u001b[0;32m    406\u001b[0m     own_fid \u001b[38;5;241m=\u001b[39m \u001b[38;5;28;01mTrue\u001b[39;00m\n\u001b[0;32m    408\u001b[0m \u001b[38;5;66;03m# Code to distinguish from NumPy binary files and pickles.\u001b[39;00m\n",
      "\u001b[1;31mFileNotFoundError\u001b[0m: [Errno 2] No such file or directory: \"Data/Dataset_Prepare/angles_fps90_gaze_Correct_f<_io.TextIOWrapper name='Results/LOSO_a200_b300_f44_seq43/Models\\\\\\\\TCNAE_1_gaze_info.json' mode='r' encoding='utf-8'>_b300_a200_finalRounds.npy\""
     ]
    }
   ],
   "source": [
    "import utils\n",
    "from TCN import *\n",
    "import torch\n",
    "import numpy as np\n",
    "import json\n",
    "import train\n",
    "\n",
    "model_folder = \"Results/LOSO_a200_b300_f44_seq43/Models\"\n",
    "model_base_name = \"TCNAE_1\"\n",
    "conditions = [\"gaze\", \"headAndGaze\", \"nod\"]\n",
    "\n",
    "fps = 90\n",
    "f = 44\n",
    "b = 300\n",
    "a = 200\n",
    "\n",
    "for cond in conditions:\n",
    "    print(f\"Condition: {cond}\")\n",
    "    model_name = f\"{model_base_name}_{cond}\"\n",
    "    with open(os.path.join(model_folder, model_name + \"_info.json\"), 'r') as f:\n",
    "        model_info = json.load(f)\n",
    "\n",
    "    angles_correct = np.load(f\"../Data/Dataset_Prepare/angles_fps{fps}_{cond}_Correct_f{f}_b{b}_a{a}_finalRounds.npy\")\n",
    "    angles_incorrect = np.load(f\"../Data/Dataset_Prepare/angles_fps{fps}_{cond}_Incorrect_f{f}_b{b}_a{a}_finalRounds.npy\")\n",
    "    names_correct = np.load(f\"../Data/Dataset_Prepare/names_fps{fps}_{cond}_Correct_f{f}_b{b}_a{a}_finalRounds.npy\")\n",
    "    names_incorrect = np.load(f\"../Data/Dataset_Prepare/names_fps{fps}_{cond}_Incorrect_f{f}_b{b}_a{a}_finalRounds.npy\")\n",
    "\n",
    "    \n",
    "    pat_names = np.unique(names_correct)\n",
    "\n",
    "    for k, name in enumerate(pat_names):\n",
    "        train_fold = angles_correct[names_correct != name]\n",
    "        test_fold_correct = angles_correct[names_correct == name]\n",
    "        test_fold_incorrect = angles_incorrect[names_incorrect == name]\n",
    "\n",
    "        model = TCNAE(**model_info[\"model_params\"])\n",
    "        model, _ = train.train_autoencoder(\n",
    "            model=model,\n",
    "            train_data=train_fold,\n",
    "            batch_size=model_info[\"train_parameter\"][\"batch_size\"],\n",
    "            num_epochs=model_info[\"train_parameter\"][\"num_epochs\"],\n",
    "            learning_rate=model_info[\"train_parameter\"][\"learning_rate\"],\n",
    "            criterion=torch.nn.MSELoss(),\n",
    "            use_gpu=model_info[\"train_parameter\"][\"use_gpu\"],\n",
    "            desc_tqdm=f\"Participant {k+1}/{len(pat_names)} {name}\"\n",
    "        )\n",
    "\n",
    "        mse_train, mse_correct, mse_incorrect = train.test_autoencoder(\n",
    "            model=model,\n",
    "            train_data=train_fold,\n",
    "            test_data_correct=test_fold_correct,\n",
    "            test_data_incorrect=test_fold_incorrect,\n",
    "            use_gpu=model_info[\"train_parameter\"][\"use_gpu\"],\n",
    "            batch_size=model_info[\"train_parameter\"][\"batch_size\"]\n",
    "        )\n",
    "\n",
    "        t = np.percentile(mse_train.cpu().numpy(), model_info[\"th_perc\"])\n",
    "\n",
    "        results = {\n",
    "            \"participant\": name,\n",
    "            \"mse_correct\": mse_correct.cpu().numpy().tolist(),\n",
    "            \"mse_incorrect\": mse_incorrect.cpu().numpy().tolist(),\n",
    "            \"threshold\": t\n",
    "        }\n",
    "        with open(os.path.join(save_folder, f\"Results_{name}.json\"), 'w') as f:\n",
    "            json.dump(results, f)\n",
    "\n",
    "    "
   ]
  }
 ],
 "metadata": {
  "kernelspec": {
   "display_name": "MAIA",
   "language": "python",
   "name": "python3"
  },
  "language_info": {
   "codemirror_mode": {
    "name": "ipython",
    "version": 3
   },
   "file_extension": ".py",
   "mimetype": "text/x-python",
   "name": "python",
   "nbconvert_exporter": "python",
   "pygments_lexer": "ipython3",
   "version": "3.11.3"
  }
 },
 "nbformat": 4,
 "nbformat_minor": 2
}
